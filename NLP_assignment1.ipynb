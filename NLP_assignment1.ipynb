{
  "nbformat": 4,
  "nbformat_minor": 0,
  "metadata": {
    "colab": {
      "provenance": [],
      "authorship_tag": "ABX9TyNPCpXqyI/6I8trsri/Nsaq",
      "include_colab_link": true
    },
    "kernelspec": {
      "name": "python3",
      "display_name": "Python 3"
    },
    "language_info": {
      "name": "python"
    }
  },
  "cells": [
    {
      "cell_type": "markdown",
      "metadata": {
        "id": "view-in-github",
        "colab_type": "text"
      },
      "source": [
        "<a href=\"https://colab.research.google.com/github/Sphurti17/US_Airline_Sentiment_Analysis/blob/main/NLP_assignment1.ipynb\" target=\"_parent\"><img src=\"https://colab.research.google.com/assets/colab-badge.svg\" alt=\"Open In Colab\"/></a>"
      ]
    },
    {
      "cell_type": "code",
      "execution_count": 1,
      "metadata": {
        "colab": {
          "base_uri": "https://localhost:8080/"
        },
        "id": "7c2Rp3JsyNEO",
        "outputId": "4934e9f2-dcce-4432-f8e8-052509485171"
      },
      "outputs": [
        {
          "output_type": "stream",
          "name": "stderr",
          "text": [
            "[nltk_data] Downloading collection 'all'\n",
            "[nltk_data]    | \n",
            "[nltk_data]    | Downloading package abc to /root/nltk_data...\n",
            "[nltk_data]    |   Unzipping corpora/abc.zip.\n",
            "[nltk_data]    | Downloading package alpino to /root/nltk_data...\n",
            "[nltk_data]    |   Unzipping corpora/alpino.zip.\n",
            "[nltk_data]    | Downloading package averaged_perceptron_tagger to\n",
            "[nltk_data]    |     /root/nltk_data...\n",
            "[nltk_data]    |   Unzipping taggers/averaged_perceptron_tagger.zip.\n",
            "[nltk_data]    | Downloading package averaged_perceptron_tagger_ru to\n",
            "[nltk_data]    |     /root/nltk_data...\n",
            "[nltk_data]    |   Unzipping\n",
            "[nltk_data]    |       taggers/averaged_perceptron_tagger_ru.zip.\n",
            "[nltk_data]    | Downloading package basque_grammars to\n",
            "[nltk_data]    |     /root/nltk_data...\n",
            "[nltk_data]    |   Unzipping grammars/basque_grammars.zip.\n",
            "[nltk_data]    | Downloading package bcp47 to /root/nltk_data...\n",
            "[nltk_data]    | Downloading package biocreative_ppi to\n",
            "[nltk_data]    |     /root/nltk_data...\n",
            "[nltk_data]    |   Unzipping corpora/biocreative_ppi.zip.\n",
            "[nltk_data]    | Downloading package bllip_wsj_no_aux to\n",
            "[nltk_data]    |     /root/nltk_data...\n",
            "[nltk_data]    |   Unzipping models/bllip_wsj_no_aux.zip.\n",
            "[nltk_data]    | Downloading package book_grammars to\n",
            "[nltk_data]    |     /root/nltk_data...\n",
            "[nltk_data]    |   Unzipping grammars/book_grammars.zip.\n",
            "[nltk_data]    | Downloading package brown to /root/nltk_data...\n",
            "[nltk_data]    |   Unzipping corpora/brown.zip.\n",
            "[nltk_data]    | Downloading package brown_tei to /root/nltk_data...\n",
            "[nltk_data]    |   Unzipping corpora/brown_tei.zip.\n",
            "[nltk_data]    | Downloading package cess_cat to /root/nltk_data...\n",
            "[nltk_data]    |   Unzipping corpora/cess_cat.zip.\n",
            "[nltk_data]    | Downloading package cess_esp to /root/nltk_data...\n",
            "[nltk_data]    |   Unzipping corpora/cess_esp.zip.\n",
            "[nltk_data]    | Downloading package chat80 to /root/nltk_data...\n",
            "[nltk_data]    |   Unzipping corpora/chat80.zip.\n",
            "[nltk_data]    | Downloading package city_database to\n",
            "[nltk_data]    |     /root/nltk_data...\n",
            "[nltk_data]    |   Unzipping corpora/city_database.zip.\n",
            "[nltk_data]    | Downloading package cmudict to /root/nltk_data...\n",
            "[nltk_data]    |   Unzipping corpora/cmudict.zip.\n",
            "[nltk_data]    | Downloading package comparative_sentences to\n",
            "[nltk_data]    |     /root/nltk_data...\n",
            "[nltk_data]    |   Unzipping corpora/comparative_sentences.zip.\n",
            "[nltk_data]    | Downloading package comtrans to /root/nltk_data...\n",
            "[nltk_data]    | Downloading package conll2000 to /root/nltk_data...\n",
            "[nltk_data]    |   Unzipping corpora/conll2000.zip.\n",
            "[nltk_data]    | Downloading package conll2002 to /root/nltk_data...\n",
            "[nltk_data]    |   Unzipping corpora/conll2002.zip.\n",
            "[nltk_data]    | Downloading package conll2007 to /root/nltk_data...\n",
            "[nltk_data]    | Downloading package crubadan to /root/nltk_data...\n",
            "[nltk_data]    |   Unzipping corpora/crubadan.zip.\n",
            "[nltk_data]    | Downloading package dependency_treebank to\n",
            "[nltk_data]    |     /root/nltk_data...\n",
            "[nltk_data]    |   Unzipping corpora/dependency_treebank.zip.\n",
            "[nltk_data]    | Downloading package dolch to /root/nltk_data...\n",
            "[nltk_data]    |   Unzipping corpora/dolch.zip.\n",
            "[nltk_data]    | Downloading package europarl_raw to\n",
            "[nltk_data]    |     /root/nltk_data...\n",
            "[nltk_data]    |   Unzipping corpora/europarl_raw.zip.\n",
            "[nltk_data]    | Downloading package extended_omw to\n",
            "[nltk_data]    |     /root/nltk_data...\n",
            "[nltk_data]    | Downloading package floresta to /root/nltk_data...\n",
            "[nltk_data]    |   Unzipping corpora/floresta.zip.\n",
            "[nltk_data]    | Downloading package framenet_v15 to\n",
            "[nltk_data]    |     /root/nltk_data...\n",
            "[nltk_data]    |   Unzipping corpora/framenet_v15.zip.\n",
            "[nltk_data]    | Downloading package framenet_v17 to\n",
            "[nltk_data]    |     /root/nltk_data...\n",
            "[nltk_data]    |   Unzipping corpora/framenet_v17.zip.\n",
            "[nltk_data]    | Downloading package gazetteers to /root/nltk_data...\n",
            "[nltk_data]    |   Unzipping corpora/gazetteers.zip.\n",
            "[nltk_data]    | Downloading package genesis to /root/nltk_data...\n",
            "[nltk_data]    |   Unzipping corpora/genesis.zip.\n",
            "[nltk_data]    | Downloading package gutenberg to /root/nltk_data...\n",
            "[nltk_data]    |   Unzipping corpora/gutenberg.zip.\n",
            "[nltk_data]    | Downloading package ieer to /root/nltk_data...\n",
            "[nltk_data]    |   Unzipping corpora/ieer.zip.\n",
            "[nltk_data]    | Downloading package inaugural to /root/nltk_data...\n",
            "[nltk_data]    |   Unzipping corpora/inaugural.zip.\n",
            "[nltk_data]    | Downloading package indian to /root/nltk_data...\n",
            "[nltk_data]    |   Unzipping corpora/indian.zip.\n",
            "[nltk_data]    | Downloading package jeita to /root/nltk_data...\n",
            "[nltk_data]    | Downloading package kimmo to /root/nltk_data...\n",
            "[nltk_data]    |   Unzipping corpora/kimmo.zip.\n",
            "[nltk_data]    | Downloading package knbc to /root/nltk_data...\n",
            "[nltk_data]    | Downloading package large_grammars to\n",
            "[nltk_data]    |     /root/nltk_data...\n",
            "[nltk_data]    |   Unzipping grammars/large_grammars.zip.\n",
            "[nltk_data]    | Downloading package lin_thesaurus to\n",
            "[nltk_data]    |     /root/nltk_data...\n",
            "[nltk_data]    |   Unzipping corpora/lin_thesaurus.zip.\n",
            "[nltk_data]    | Downloading package mac_morpho to /root/nltk_data...\n",
            "[nltk_data]    |   Unzipping corpora/mac_morpho.zip.\n",
            "[nltk_data]    | Downloading package machado to /root/nltk_data...\n",
            "[nltk_data]    | Downloading package masc_tagged to /root/nltk_data...\n",
            "[nltk_data]    | Downloading package maxent_ne_chunker to\n",
            "[nltk_data]    |     /root/nltk_data...\n",
            "[nltk_data]    |   Unzipping chunkers/maxent_ne_chunker.zip.\n",
            "[nltk_data]    | Downloading package maxent_treebank_pos_tagger to\n",
            "[nltk_data]    |     /root/nltk_data...\n",
            "[nltk_data]    |   Unzipping taggers/maxent_treebank_pos_tagger.zip.\n",
            "[nltk_data]    | Downloading package moses_sample to\n",
            "[nltk_data]    |     /root/nltk_data...\n",
            "[nltk_data]    |   Unzipping models/moses_sample.zip.\n",
            "[nltk_data]    | Downloading package movie_reviews to\n",
            "[nltk_data]    |     /root/nltk_data...\n",
            "[nltk_data]    |   Unzipping corpora/movie_reviews.zip.\n",
            "[nltk_data]    | Downloading package mte_teip5 to /root/nltk_data...\n",
            "[nltk_data]    |   Unzipping corpora/mte_teip5.zip.\n",
            "[nltk_data]    | Downloading package mwa_ppdb to /root/nltk_data...\n",
            "[nltk_data]    |   Unzipping misc/mwa_ppdb.zip.\n",
            "[nltk_data]    | Downloading package names to /root/nltk_data...\n",
            "[nltk_data]    |   Unzipping corpora/names.zip.\n",
            "[nltk_data]    | Downloading package nombank.1.0 to /root/nltk_data...\n",
            "[nltk_data]    | Downloading package nonbreaking_prefixes to\n",
            "[nltk_data]    |     /root/nltk_data...\n",
            "[nltk_data]    |   Unzipping corpora/nonbreaking_prefixes.zip.\n",
            "[nltk_data]    | Downloading package nps_chat to /root/nltk_data...\n",
            "[nltk_data]    |   Unzipping corpora/nps_chat.zip.\n",
            "[nltk_data]    | Downloading package omw to /root/nltk_data...\n",
            "[nltk_data]    | Downloading package omw-1.4 to /root/nltk_data...\n",
            "[nltk_data]    | Downloading package opinion_lexicon to\n",
            "[nltk_data]    |     /root/nltk_data...\n",
            "[nltk_data]    |   Unzipping corpora/opinion_lexicon.zip.\n",
            "[nltk_data]    | Downloading package panlex_swadesh to\n",
            "[nltk_data]    |     /root/nltk_data...\n",
            "[nltk_data]    | Downloading package paradigms to /root/nltk_data...\n",
            "[nltk_data]    |   Unzipping corpora/paradigms.zip.\n",
            "[nltk_data]    | Downloading package pe08 to /root/nltk_data...\n",
            "[nltk_data]    |   Unzipping corpora/pe08.zip.\n",
            "[nltk_data]    | Downloading package perluniprops to\n",
            "[nltk_data]    |     /root/nltk_data...\n",
            "[nltk_data]    |   Unzipping misc/perluniprops.zip.\n",
            "[nltk_data]    | Downloading package pil to /root/nltk_data...\n",
            "[nltk_data]    |   Unzipping corpora/pil.zip.\n",
            "[nltk_data]    | Downloading package pl196x to /root/nltk_data...\n",
            "[nltk_data]    |   Unzipping corpora/pl196x.zip.\n",
            "[nltk_data]    | Downloading package porter_test to /root/nltk_data...\n",
            "[nltk_data]    |   Unzipping stemmers/porter_test.zip.\n",
            "[nltk_data]    | Downloading package ppattach to /root/nltk_data...\n",
            "[nltk_data]    |   Unzipping corpora/ppattach.zip.\n",
            "[nltk_data]    | Downloading package problem_reports to\n",
            "[nltk_data]    |     /root/nltk_data...\n",
            "[nltk_data]    |   Unzipping corpora/problem_reports.zip.\n",
            "[nltk_data]    | Downloading package product_reviews_1 to\n",
            "[nltk_data]    |     /root/nltk_data...\n",
            "[nltk_data]    |   Unzipping corpora/product_reviews_1.zip.\n",
            "[nltk_data]    | Downloading package product_reviews_2 to\n",
            "[nltk_data]    |     /root/nltk_data...\n",
            "[nltk_data]    |   Unzipping corpora/product_reviews_2.zip.\n",
            "[nltk_data]    | Downloading package propbank to /root/nltk_data...\n",
            "[nltk_data]    | Downloading package pros_cons to /root/nltk_data...\n",
            "[nltk_data]    |   Unzipping corpora/pros_cons.zip.\n",
            "[nltk_data]    | Downloading package ptb to /root/nltk_data...\n",
            "[nltk_data]    |   Unzipping corpora/ptb.zip.\n",
            "[nltk_data]    | Downloading package punkt to /root/nltk_data...\n",
            "[nltk_data]    |   Unzipping tokenizers/punkt.zip.\n",
            "[nltk_data]    | Downloading package qc to /root/nltk_data...\n",
            "[nltk_data]    |   Unzipping corpora/qc.zip.\n",
            "[nltk_data]    | Downloading package reuters to /root/nltk_data...\n",
            "[nltk_data]    | Downloading package rslp to /root/nltk_data...\n",
            "[nltk_data]    |   Unzipping stemmers/rslp.zip.\n",
            "[nltk_data]    | Downloading package rte to /root/nltk_data...\n",
            "[nltk_data]    |   Unzipping corpora/rte.zip.\n",
            "[nltk_data]    | Downloading package sample_grammars to\n",
            "[nltk_data]    |     /root/nltk_data...\n",
            "[nltk_data]    |   Unzipping grammars/sample_grammars.zip.\n",
            "[nltk_data]    | Downloading package semcor to /root/nltk_data...\n",
            "[nltk_data]    | Downloading package senseval to /root/nltk_data...\n",
            "[nltk_data]    |   Unzipping corpora/senseval.zip.\n",
            "[nltk_data]    | Downloading package sentence_polarity to\n",
            "[nltk_data]    |     /root/nltk_data...\n",
            "[nltk_data]    |   Unzipping corpora/sentence_polarity.zip.\n",
            "[nltk_data]    | Downloading package sentiwordnet to\n",
            "[nltk_data]    |     /root/nltk_data...\n",
            "[nltk_data]    |   Unzipping corpora/sentiwordnet.zip.\n",
            "[nltk_data]    | Downloading package shakespeare to /root/nltk_data...\n",
            "[nltk_data]    |   Unzipping corpora/shakespeare.zip.\n",
            "[nltk_data]    | Downloading package sinica_treebank to\n",
            "[nltk_data]    |     /root/nltk_data...\n",
            "[nltk_data]    |   Unzipping corpora/sinica_treebank.zip.\n",
            "[nltk_data]    | Downloading package smultron to /root/nltk_data...\n",
            "[nltk_data]    |   Unzipping corpora/smultron.zip.\n",
            "[nltk_data]    | Downloading package snowball_data to\n",
            "[nltk_data]    |     /root/nltk_data...\n",
            "[nltk_data]    | Downloading package spanish_grammars to\n",
            "[nltk_data]    |     /root/nltk_data...\n",
            "[nltk_data]    |   Unzipping grammars/spanish_grammars.zip.\n",
            "[nltk_data]    | Downloading package state_union to /root/nltk_data...\n",
            "[nltk_data]    |   Unzipping corpora/state_union.zip.\n",
            "[nltk_data]    | Downloading package stopwords to /root/nltk_data...\n",
            "[nltk_data]    |   Unzipping corpora/stopwords.zip.\n",
            "[nltk_data]    | Downloading package subjectivity to\n",
            "[nltk_data]    |     /root/nltk_data...\n",
            "[nltk_data]    |   Unzipping corpora/subjectivity.zip.\n",
            "[nltk_data]    | Downloading package swadesh to /root/nltk_data...\n",
            "[nltk_data]    |   Unzipping corpora/swadesh.zip.\n",
            "[nltk_data]    | Downloading package switchboard to /root/nltk_data...\n",
            "[nltk_data]    |   Unzipping corpora/switchboard.zip.\n",
            "[nltk_data]    | Downloading package tagsets to /root/nltk_data...\n",
            "[nltk_data]    |   Unzipping help/tagsets.zip.\n",
            "[nltk_data]    | Downloading package timit to /root/nltk_data...\n",
            "[nltk_data]    |   Unzipping corpora/timit.zip.\n",
            "[nltk_data]    | Downloading package toolbox to /root/nltk_data...\n",
            "[nltk_data]    |   Unzipping corpora/toolbox.zip.\n",
            "[nltk_data]    | Downloading package treebank to /root/nltk_data...\n",
            "[nltk_data]    |   Unzipping corpora/treebank.zip.\n",
            "[nltk_data]    | Downloading package twitter_samples to\n",
            "[nltk_data]    |     /root/nltk_data...\n",
            "[nltk_data]    |   Unzipping corpora/twitter_samples.zip.\n",
            "[nltk_data]    | Downloading package udhr to /root/nltk_data...\n",
            "[nltk_data]    |   Unzipping corpora/udhr.zip.\n",
            "[nltk_data]    | Downloading package udhr2 to /root/nltk_data...\n",
            "[nltk_data]    |   Unzipping corpora/udhr2.zip.\n",
            "[nltk_data]    | Downloading package unicode_samples to\n",
            "[nltk_data]    |     /root/nltk_data...\n",
            "[nltk_data]    |   Unzipping corpora/unicode_samples.zip.\n",
            "[nltk_data]    | Downloading package universal_tagset to\n",
            "[nltk_data]    |     /root/nltk_data...\n",
            "[nltk_data]    |   Unzipping taggers/universal_tagset.zip.\n",
            "[nltk_data]    | Downloading package universal_treebanks_v20 to\n",
            "[nltk_data]    |     /root/nltk_data...\n",
            "[nltk_data]    | Downloading package vader_lexicon to\n",
            "[nltk_data]    |     /root/nltk_data...\n",
            "[nltk_data]    | Downloading package verbnet to /root/nltk_data...\n",
            "[nltk_data]    |   Unzipping corpora/verbnet.zip.\n",
            "[nltk_data]    | Downloading package verbnet3 to /root/nltk_data...\n",
            "[nltk_data]    |   Unzipping corpora/verbnet3.zip.\n",
            "[nltk_data]    | Downloading package webtext to /root/nltk_data...\n",
            "[nltk_data]    |   Unzipping corpora/webtext.zip.\n",
            "[nltk_data]    | Downloading package wmt15_eval to /root/nltk_data...\n",
            "[nltk_data]    |   Unzipping models/wmt15_eval.zip.\n",
            "[nltk_data]    | Downloading package word2vec_sample to\n",
            "[nltk_data]    |     /root/nltk_data...\n",
            "[nltk_data]    |   Unzipping models/word2vec_sample.zip.\n",
            "[nltk_data]    | Downloading package wordnet to /root/nltk_data...\n",
            "[nltk_data]    | Downloading package wordnet2021 to /root/nltk_data...\n",
            "[nltk_data]    | Downloading package wordnet2022 to /root/nltk_data...\n",
            "[nltk_data]    |   Unzipping corpora/wordnet2022.zip.\n",
            "[nltk_data]    | Downloading package wordnet31 to /root/nltk_data...\n",
            "[nltk_data]    | Downloading package wordnet_ic to /root/nltk_data...\n",
            "[nltk_data]    |   Unzipping corpora/wordnet_ic.zip.\n",
            "[nltk_data]    | Downloading package words to /root/nltk_data...\n",
            "[nltk_data]    |   Unzipping corpora/words.zip.\n",
            "[nltk_data]    | Downloading package ycoe to /root/nltk_data...\n",
            "[nltk_data]    |   Unzipping corpora/ycoe.zip.\n",
            "[nltk_data]    | \n",
            "[nltk_data]  Done downloading collection all\n"
          ]
        },
        {
          "output_type": "execute_result",
          "data": {
            "text/plain": [
              "True"
            ]
          },
          "metadata": {},
          "execution_count": 1
        }
      ],
      "source": [
        "import nltk\n",
        "\n",
        "nltk.download('all')"
      ]
    },
    {
      "cell_type": "code",
      "source": [
        "\n",
        "# Task 1: Calculate the number of sentences in the paragraph using nltk. \n",
        "\n",
        "from nltk.tokenize import sent_tokenize, word_tokenize\n",
        "\n",
        "sampleText = '''Elon Reeve Musk is a business magnate, investor and engineer. He is the founder, CEO, and lead designer of SpaceX; co-founder, CEO, and product architect of Tesla, Inc.; co-founder and CEO of Neuralink; and co-founder of PayPal. In December 2016, he was ranked 21st on the Forbes list of The World's Most Powerful People. As of August 2018, he has a net worth of $20.2 billion and is listed by Forbes as the 46th-richest person in the world. Born in Pretoria, South Africa, Musk taught himself computer programming at the age of 12. He moved to Canada when he was 17 to attend Queen's University. He transferred to the University of Pennsylvania two years later, where he received an economics degree from the Wharton School and a degree in physics from the College of Arts and Sciences. He began a Ph.D. in applied physics and material sciences at Stanford University in 1995 but dropped out after two days to pursue an entrepreneurial career. He subsequently co-founded Zip2, a web software company, which was acquired by Compaq for $340 million in 1999. Musk then founded X.com, an online bank. It merged with Confinity in 2000 and became PayPal, which was bought by eBay for $1.5 billion in October 2002'''\n",
        "\n",
        "## sentence tokenzization\n",
        "sent = sampleText.split('.')\n",
        "print(len(sent))"
      ],
      "metadata": {
        "colab": {
          "base_uri": "https://localhost:8080/"
        },
        "id": "UkZQ4uRFyNq2",
        "outputId": "89dd5d74-b5fd-4d05-d207-cb567342dd86"
      },
      "execution_count": 2,
      "outputs": [
        {
          "output_type": "stream",
          "name": "stdout",
          "text": [
            "17\n"
          ]
        }
      ]
    },
    {
      "cell_type": "code",
      "source": [
        "# Task 2\n",
        "# Following the previous question, after removing the stop words in the paragraph, list the top ten frequent words in the paragraph. \n",
        "import nltk\n",
        "import string\n",
        "from nltk.corpus import stopwords\n",
        "words=nltk.word_tokenize(sampleText)\n",
        "stopword = stopwords.words(\"english\")\n",
        "punc = string.punctuation\n",
        "filtered_words = [x.lower() for x in words if x.lower() not in stopword and x not in punc]\n",
        "freq_dist = nltk.FreqDist(filtered_words)\n",
        "print('the top 10 frequest words are:')\n",
        "print(freq_dist.most_common(10))"
      ],
      "metadata": {
        "colab": {
          "base_uri": "https://localhost:8080/"
        },
        "id": "bxUGncQmzu6j",
        "outputId": "07779525-2b27-4335-fd42-a28720e13d9d"
      },
      "execution_count": 4,
      "outputs": [
        {
          "output_type": "stream",
          "name": "stdout",
          "text": [
            "the top 10 frequest words are:\n",
            "[('musk', 3), ('ceo', 3), ('co-founder', 3), ('university', 3), ('paypal', 2), ('forbes', 2), ('world', 2), (\"'s\", 2), ('billion', 2), ('two', 2)]\n"
          ]
        }
      ]
    },
    {
      "cell_type": "code",
      "source": [
        "#Task 3\n",
        "#Search in the nps_chat corpus for any words containing consecutively repeated letters, such as 'heyyyyyy', 'hmmmmmmmmmm', or 'ohhhhhh'. The word must contain at least three consecutively repeated letters (e.g., 'too' is not a match but 'tooo' is). \n",
        "import nltk\n",
        "import re\n",
        "chat = set(nltk.corpus.nps_chat.words())\n",
        "print('Words containing atleast three consecutive repeated letters are:')\n",
        "print([i for i in chat if re.search(\"([A-Za-z])\\\\1{2,}\",i)])\n",
        "\n",
        "print()"
      ],
      "metadata": {
        "colab": {
          "base_uri": "https://localhost:8080/"
        },
        "id": "zXcHGh_dzx7M",
        "outputId": "535ed10d-2ada-4e1f-e55e-7f361c1299c0"
      },
      "execution_count": 5,
      "outputs": [
        {
          "output_type": "stream",
          "name": "stdout",
          "text": [
            "Words containing atleast three consecutive repeated letters are:\n",
            "['bbbbbyyyyyyyeeeeeeeee', 'nawwww', 'ooooook', 'niteeeeeeeeeeeeeeeeeee', 'arggghhh', 'whewwwwww', 'mmmmmm', 'happpy', 'ohhhhhhhhhhhhhhhh', 'xxxed', 'ewwww', 'Awww', 'hmmm', 'hiii', 'wooooooooooooohoooooooooooooooo', 'weeeeeeeee', 'ooppsss', 'Plssss', 'beeeeehave', 'Bloooooooooood', 'asss', 'hugzzzzzzz', 'hiiii', 'pssssh', 'heyyyyy', 'biiiatch', 'poooland', 'youuu', 'goneee', 'Nooooooooooooooo', 'mmmomom', 'ahhhhhhhhhhhhhh', 'lolololll', 'gguyyyzzzz', 'mmmmmmmmmmmmmm', 'tooo', 'WEEEEEEEEEEEEEEEEEE', 'lmaooo', 'uuuhhh', 'heee', 'hmmmm', 'eeekk', 'gezzz', 'mmmmmmmmmmmmm', 'miiiiiinnnnnnnnnneeeeeeee', 'whoaaaaaaaaaaaa', 'woooooooooaaaahhhhhhhhhhhh', 'reallly', 'welll', 'pffft', 'hooo', 'sweeeeeeeeet', 'whaaaaats', 'Hummmm', 'mmmmmmmmiiiiiiiiinnnnnnnnneeeeeeee', 'oooooooooooo', 'gaspppp', 'awwwwww', 'ewwwwww', 'SINGLEEEEEEEE', 'Barbieee', 'ysssssssss', 'owww', 'lmaooooo', 'helloooo', 'aiiiiiiiiiiiiiiiiiiiiiiii', 'raarrrrrr', 'yuuuuuuuuuuuummmmmmmmmmmm', 'hahaaa', 'riiiight', 'noooooooooooooo', '//www.wunderground.com/cgi-bin/findweather/getForecast?query=95953#FIR', 'Seee', 'omggg', 'grrrrrrrrrrrrrrrrr', 'yeee', 'downnnnnn', 'Uhhh', 'eeewww', 'Ahhhh', 'ohhhhhh', 'eeeek', 'laterssss', 'hugsss', 'ahhhh', 'goooooo', 'heyyyyyyyy', 'excuuuuuuse', 'cooooooooookiiiiiiiiiiiieeeeeeeeeeee', 'dreammm', 'woooohoooo', 'eeeeeeeeewwwwwwww', 'gaaaaaaay', 'byeeee', 'pleaseeeee', 'alohaaa', 'yikesssss', 'gooo', 'freeezinggggg', 'muahhhhh', 'wheeeeeeeeeeeeeeeeeeeeeeeeeeeeeeeeee', 'whooo', 'ughhh', 'seee', 'heeee', 'Cheeeez', 'hugsssssssss', 'grrrrrrrr', 'hooooo', 'nooooo', 'zzzzzzzing', 'Niceeee', 'Vroooom', 'polllution', 'gurrrrl', 'Yarrrr', 'Ohhh', 'yoooou', 'aaahhhh', 'shhhh', 'ummm', 'oooOOOOoooo', 'poorrr', 'HHEEYYYYYYYYYYYYYYYYYYYYYYYYYYYYYYYYYYYYYYYYYYYYYYY', 'eeek', 'zzzzzzzz', 'tooooooooooo', 'noooooooooo', 'Bloooooooooooood', 'freeeezinggg', 'muahssssssssssssssss', 'uffff', 'seeee', 'mmmmm', 'hmmmmm', 'Ahhh', 'buddyyyyyy', 'heyyyy', 'brbbb', 'wahoooooooo', 'anyyyyyyyyyyyyyyyyy', 'byeeeeeeeeeeeee', 'hhaaaaatttee', 'BAAAAALLLLLLLLIIIIIIINNNNNNNNNNN', 'brrrrrrr', 'lllllllliiiiiiiiiikeee', 'ooo', 'hmmmmmmmmmm', 'Heyyyyyyy', 'aaaaaaaaaaaaaaaaa', 'weeeeeeeeeeeeeeee', 'hmmmmmmmm', 'hheeyyy', 'pppppppppppew', 'Bloooooooood', 'beachhhh', 'grrrrrring', 'LOLOLOLLL', 'whhhooooo', 'grrr', 'dirrrrty', 'ewwwww', 'thanksss', 'Heyyy', 'oooooooooooglyyyyyyyy', 'coggieeee', 'mmmkay', 'Okkkkkk', 'Mooooooooooooooooooooooooooo', 'www.Wunderground.com', 'mmm', 'Nooo', 'Shaneeeeeeeee', 'Ummm', 'ahhhhhh', 'xxxxxx', 'Hahaaaa', 'pssst', 'yayayayayyy', 'Whaaa', 'Daveeee', 'meeeeeeeeeeeee', 'ohhh', 'moochhhhhhhhh', 'muahzzzz', 'heyyyyyyyyyy', 'muahhh', 'Niceeeee', 'jajajaaa', 'huuuuuuuuuuuuuuuuuuuuuuuuuuuuuuuuuuugZ', 'llloooozzzzeeerrrrzzzzzzzzzzzzzzzzzzzzzzzzzzzzzzzzzzzzzzzzzzzzzzzzz', 'dummmm', 'wooooohoooo', 'awww', 'sunnn', 'oppsss', 'miiiiiiiiiiiiinnnnnnnnnnneeeeeeeeee', 'grrrrrrrrr', 'beeehave', 'mmmmmmmmmm', 'weeeeeeeeeeeeeeeeeeeeeeeeed', 'byeee', 'http://www.shadowbots.com', 'ewww', 'heyyyyyyyyyyyyyy', 'hmmmmmmm', 'mikeeeeeeeeeeeeeeeeeeeeeeeeee', 'heyyyyyy', 'hugggs', 'wahoooooooski', 'oooh', 'retahhhhded', 'ooooooo', 'yooou', 'wooo', 'lixxx', 'boooooooooooglyyyyyy', 'mmmmk', 'hahahahaaa', 'raaaaaaaaaaaaaaaaaaaaaaaaaaaaa', 'ewwwwwww', 'awwwwwww', 'sooo', 'geeshhh', 'riiiiight', 'youuuu', 'hugsssss', 'telllin', 'ahhh', 'yawnssss', 'awwww', 'lmaoooo', 'XXXXXXXXXX', 'byeeeeeeee', 'Biiiiiitch', 'ooopppps', 'heyyyyyyyyy', 'errrrr', 'muahsssssssssssssssssss', 'ohhhh', 'eeewwwwww', 'heeeey', 'waaa', 'oooooooooooooonnnnnnnnnnnneeeeeeeeeeeeeeesssssssss', 'heyyy', 'awwwwwwwwww', 'haaa', 'mmmm']\n",
            "\n"
          ]
        }
      ]
    },
    {
      "cell_type": "code",
      "source": [
        "#Task 4\n",
        "\n",
        "#Given the following course information, use regular expression to obtain the course number, course abbreviation, and the course name respectively. \n",
        "\n",
        "\n",
        "import re\n",
        "\n",
        "course_info=\"1.01 CO Computers 2.05 MATH Mathematics 8.8 ENG English\"\n",
        "\n",
        "def course_abbreviation(course_information):\n",
        "    course_info_values = re.findall(\"(\\d\\.\\d+) ([A-Z]+) ([A-Z][a-z]+)\",course_info)\n",
        "    return course_info_values\n",
        "\n",
        "print('The course number, course abbreviation & course name for the given course information:')\n",
        "course = course_abbreviation(course_info)\n",
        "for i in course:\n",
        "    print(f'{i[0]} {i[1]} {i[2]}')"
      ],
      "metadata": {
        "colab": {
          "base_uri": "https://localhost:8080/"
        },
        "id": "NzYmOK_40wyq",
        "outputId": "52f7d71d-2877-46ea-e309-30846d94dc33"
      },
      "execution_count": 6,
      "outputs": [
        {
          "output_type": "stream",
          "name": "stdout",
          "text": [
            "The course number, course abbreviation & course name for the given course information:\n",
            "1.01 CO Computers\n",
            "2.05 MATH Mathematics\n",
            "8.8 ENG English\n"
          ]
        }
      ]
    },
    {
      "cell_type": "code",
      "source": [
        "#Task 5\n",
        "#Given the following text corpus:\n",
        "Text=\"Trump entered the 2016 presidential race as a Republican and defeated sixteen opponents in the primaries. Commentators described his political positions as populist, protectionist, and nationalist. His campaign received extensive free media coverage; many of his public statements were controversial or false. Trump was elected president in a surprise victory over Democratic nominee Hillary Clinton. He became the oldest and wealthiest person ever to assume the presidency, the first without prior military or government service, and the fifth to have won the election while losing the popular vote. His election and policies have sparked numerous protests. Many of his comments and actions have been perceived as racially charged. \"\n",
        "#Find all verb phrases (one or more verb followed by zero or more determiners/adjectives/possessive pronoun, and then followed by one or more nouns), print the matched verb phrases you found.\n",
        "for sent in nltk.sent_tokenize(Text):\n",
        "    wordlst = nltk.word_tokenize(sent)\n",
        "    poslst = nltk.pos_tag(wordlst)\n",
        "    pattern = \"VERB_PH: {<VB.?>+<DT|JJ.?|PRP\\$>*<NN.*>+}\"\n",
        "    chunker = nltk.RegexpParser(pattern)\n",
        "    verb_phrase = chunker.parse(poslst)\n",
        "    for vb_phr in verb_phrase.subtrees(filter = lambda chunk: chunk.label() == 'VERB_PH'):\n",
        "        print(vb_phr)\n",
        "\n",
        "print()\n"
      ],
      "metadata": {
        "colab": {
          "base_uri": "https://localhost:8080/"
        },
        "id": "73VRf1eC1S31",
        "outputId": "1d87d469-8539-4585-a779-7ad127b504de"
      },
      "execution_count": 9,
      "outputs": [
        {
          "output_type": "stream",
          "name": "stdout",
          "text": [
            "(VERB_PH defeated/VBD sixteen/JJ opponents/NNS)\n",
            "(VERB_PH described/VBD his/PRP$ political/JJ positions/NNS)\n",
            "(VERB_PH received/VBD extensive/JJ free/JJ media/NNS coverage/NN)\n",
            "(VERB_PH was/VBD elected/VBN president/NN)\n",
            "(VERB_PH assume/VB the/DT presidency/NN)\n",
            "(VERB_PH have/VB won/VBN the/DT election/NN)\n",
            "(VERB_PH losing/VBG the/DT popular/JJ vote/NN)\n",
            "(VERB_PH have/VBP sparked/VBN numerous/JJ protests/NNS)\n",
            "\n"
          ]
        }
      ]
    },
    {
      "cell_type": "code",
      "source": [
        "#Task 6\n",
        "#Following the previous question, generate a list of all noun phrases in that entire paragraph that does not contain any proper nouns.\n",
        "#The noun phrases should be defined as zero or more determiners/adjectives/possessive pronoun/adjectives, and then followed by one or more nouns.\n",
        "\n",
        "nn_phr_list = []\n",
        "for sent in nltk.sent_tokenize(Text):\n",
        "    wordlst = nltk.word_tokenize(sent)\n",
        "    poslst = nltk.pos_tag(wordlst)\n",
        "    pattern = '''NOUN_PH: {<DT|JJ.?|PRP\\$|JJ.?>*<NN|NNS>+}'''\n",
        "    chunker = nltk.RegexpParser(pattern)\n",
        "    nn_phrase = chunker.parse(poslst)\n",
        "    for nn_phr in nn_phrase.subtrees(filter = lambda chunk: chunk.label() == 'NOUN_PH'):\n",
        "        nn_phr_list.append(nn_phr.leaves())\n",
        "\n",
        "print(nn_phr_list)\n",
        "\n",
        "print(f'Total noun phrases in entire paragraph that does not contain any proper nouns: {len(nn_phr_list)}')"
      ],
      "metadata": {
        "colab": {
          "base_uri": "https://localhost:8080/"
        },
        "id": "YmqWT9c02Bmp",
        "outputId": "74eabf04-61e5-4ce2-f771-082670050f14"
      },
      "execution_count": 11,
      "outputs": [
        {
          "output_type": "stream",
          "name": "stdout",
          "text": [
            "[[('Trump', 'NN')], [('presidential', 'JJ'), ('race', 'NN')], [('sixteen', 'JJ'), ('opponents', 'NNS')], [('the', 'DT'), ('primaries', 'NNS')], [('Commentators', 'NNS')], [('his', 'PRP$'), ('political', 'JJ'), ('positions', 'NNS')], [('populist', 'NN')], [('protectionist', 'NN')], [('nationalist', 'NN')], [('His', 'PRP$'), ('campaign', 'NN')], [('extensive', 'JJ'), ('free', 'JJ'), ('media', 'NNS'), ('coverage', 'NN')], [('his', 'PRP$'), ('public', 'JJ'), ('statements', 'NNS')], [('Trump', 'NN')], [('president', 'NN')], [('a', 'DT'), ('surprise', 'NN'), ('victory', 'NN')], [('wealthiest', 'JJS'), ('person', 'NN')], [('the', 'DT'), ('presidency', 'NN')], [('government', 'NN'), ('service', 'NN')], [('the', 'DT'), ('fifth', 'NN')], [('the', 'DT'), ('election', 'NN')], [('the', 'DT'), ('popular', 'JJ'), ('vote', 'NN')], [('His', 'PRP$'), ('election', 'NN')], [('policies', 'NNS')], [('numerous', 'JJ'), ('protests', 'NNS')], [('his', 'PRP$'), ('comments', 'NNS')], [('actions', 'NNS')]]\n",
            "Total noun phrases in entire paragraph that does not contain any proper nouns: 26\n"
          ]
        }
      ]
    },
    {
      "cell_type": "code",
      "source": [
        "#Task 7. \n",
        "#Following Task 5 as well, please recognize the named entities using NLTK and make a list of all ORGANIZATION, and PERSON named entities.\n",
        "#The result should look like:\n",
        "#['Republican', 'Democratic']\n",
        "#['Trump', 'Trump', 'Hillary Clinton']\n"
      ],
      "metadata": {
        "id": "GV_pLUVu2krT"
      },
      "execution_count": null,
      "outputs": []
    }
  ]
}